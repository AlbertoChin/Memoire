import pandas as pd

# Création d'un DataFrame pour simuler les configurations de mémoire
configurations = {
    'Configuration': ['Single Channel', 'Dual Channel', 'Triple Channel', 'Quad Channel'],
    'Nombre de Modules': [1, 2, 3, 4],
    'Fréquence par Module (MHz)': [2400, 2400, 2400, 2400],
    'Bande Passante Totale (Go/s)': [
        2400 * 1 * 8 / 1000,  # Single Channel
        2400 * 2 * 8 / 1000,  # Dual Channel
        2400 * 3 * 8 / 1000,  # Triple Channel
        2400 * 4 * 8 / 1000   # Quad Channel
    ]
}

# Création du DataFrame
ram_df = pd.DataFrame(configurations)

# Affichage du DataFrame
print("\nTableau des configurations de mémoire:\n")
print(ram_df)

# Ajout d'une fonction interactive pour explorer
import ipywidgets as widgets
from IPython.display import display

def afficher_bande_passante(config):
    ligne = ram_df[ram_df['Configuration'] == config]
    print(f"\nConfiguration choisie : {config}")
    print(f"Nombre de Modules : {ligne['Nombre de Modules'].values[0]}")
    print(f"Fréquence par Module (MHz) : {ligne['Fréquence par Module (MHz)'].values[0]}")
    print(f"Bande Passante Totale (Go/s) : {ligne['Bande Passante Totale (Go/s)'].values[0]:.2f}")

# Widget de sélection
config_widget = widgets.Dropdown(
    options=ram_df['Configuration'].tolist(),
    description='Config:',
)

# Affichage du widget et interaction
widgets.interactive(afficher_bande_passante, config=config_widget)
display(config_widget)
